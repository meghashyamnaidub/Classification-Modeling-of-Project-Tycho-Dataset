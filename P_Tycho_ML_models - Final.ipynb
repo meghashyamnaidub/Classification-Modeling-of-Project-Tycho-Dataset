{
 "cells": [
  {
   "cell_type": "code",
   "execution_count": 1,
   "metadata": {
    "collapsed": true
   },
   "outputs": [],
   "source": [
    "import pandas as pd\n",
    "import numpy as np\n",
    "import matplotlib.pyplot as plt\n",
    "%matplotlib inline\n",
    "import seaborn as sns"
   ]
  },
  {
   "cell_type": "code",
   "execution_count": 2,
   "metadata": {
    "collapsed": true
   },
   "outputs": [],
   "source": [
    "pt = pd.read_csv('ProjectTycho_Level2_v1.1.0.csv').head(100000)"
   ]
  },
  {
   "cell_type": "code",
   "execution_count": 3,
   "metadata": {
    "collapsed": true
   },
   "outputs": [],
   "source": [
    "pt['DrC'] = pt.iloc[:,6]"
   ]
  },
  {
   "cell_type": "code",
   "execution_count": 4,
   "metadata": {
    "collapsed": true
   },
   "outputs": [],
   "source": [
    "pt.drop('url', axis = 1, inplace = True)"
   ]
  },
  {
   "cell_type": "code",
   "execution_count": 5,
   "metadata": {
    "collapsed": true
   },
   "outputs": [],
   "source": [
    "pt['Year']=[d.split('-')[0] for d in pt.from_date]\n",
    "pt['Month']=[d.split('-')[1] for d in pt.from_date]\n",
    "pt['Day']=[d.split('-')[2] for d in pt.from_date]"
   ]
  },
  {
   "cell_type": "code",
   "execution_count": 6,
   "metadata": {},
   "outputs": [
    {
     "data": {
      "text/html": [
       "<div>\n",
       "<style>\n",
       "    .dataframe thead tr:only-child th {\n",
       "        text-align: right;\n",
       "    }\n",
       "\n",
       "    .dataframe thead th {\n",
       "        text-align: left;\n",
       "    }\n",
       "\n",
       "    .dataframe tbody tr th {\n",
       "        vertical-align: top;\n",
       "    }\n",
       "</style>\n",
       "<table border=\"1\" class=\"dataframe\">\n",
       "  <thead>\n",
       "    <tr style=\"text-align: right;\">\n",
       "      <th></th>\n",
       "      <th>epi_week</th>\n",
       "      <th>country</th>\n",
       "      <th>state</th>\n",
       "      <th>loc</th>\n",
       "      <th>loc_type</th>\n",
       "      <th>disease</th>\n",
       "      <th>event</th>\n",
       "      <th>number</th>\n",
       "      <th>from_date</th>\n",
       "      <th>to_date</th>\n",
       "      <th>DrC</th>\n",
       "      <th>Year</th>\n",
       "      <th>Month</th>\n",
       "      <th>Day</th>\n",
       "    </tr>\n",
       "  </thead>\n",
       "  <tbody>\n",
       "    <tr>\n",
       "      <th>0</th>\n",
       "      <td>188824</td>\n",
       "      <td>US</td>\n",
       "      <td>PA</td>\n",
       "      <td>PHILADELPHIA</td>\n",
       "      <td>CITY</td>\n",
       "      <td>TYPHOID FEVER [ENTERIC FEVER]</td>\n",
       "      <td>DEATHS</td>\n",
       "      <td>14</td>\n",
       "      <td>1888-06-10</td>\n",
       "      <td>1888-06-16</td>\n",
       "      <td>DEATHS</td>\n",
       "      <td>1888</td>\n",
       "      <td>06</td>\n",
       "      <td>10</td>\n",
       "    </tr>\n",
       "    <tr>\n",
       "      <th>1</th>\n",
       "      <td>188824</td>\n",
       "      <td>US</td>\n",
       "      <td>PA</td>\n",
       "      <td>PHILADELPHIA</td>\n",
       "      <td>CITY</td>\n",
       "      <td>SCARLET FEVER</td>\n",
       "      <td>DEATHS</td>\n",
       "      <td>4</td>\n",
       "      <td>1888-06-10</td>\n",
       "      <td>1888-06-16</td>\n",
       "      <td>DEATHS</td>\n",
       "      <td>1888</td>\n",
       "      <td>06</td>\n",
       "      <td>10</td>\n",
       "    </tr>\n",
       "    <tr>\n",
       "      <th>2</th>\n",
       "      <td>188824</td>\n",
       "      <td>US</td>\n",
       "      <td>PA</td>\n",
       "      <td>PHILADELPHIA</td>\n",
       "      <td>CITY</td>\n",
       "      <td>DIPHTHERIA</td>\n",
       "      <td>DEATHS</td>\n",
       "      <td>4</td>\n",
       "      <td>1888-06-10</td>\n",
       "      <td>1888-06-16</td>\n",
       "      <td>DEATHS</td>\n",
       "      <td>1888</td>\n",
       "      <td>06</td>\n",
       "      <td>10</td>\n",
       "    </tr>\n",
       "    <tr>\n",
       "      <th>3</th>\n",
       "      <td>188826</td>\n",
       "      <td>US</td>\n",
       "      <td>PA</td>\n",
       "      <td>PHILADELPHIA</td>\n",
       "      <td>CITY</td>\n",
       "      <td>TYPHOID FEVER [ENTERIC FEVER]</td>\n",
       "      <td>DEATHS</td>\n",
       "      <td>12</td>\n",
       "      <td>1888-06-24</td>\n",
       "      <td>1888-06-30</td>\n",
       "      <td>DEATHS</td>\n",
       "      <td>1888</td>\n",
       "      <td>06</td>\n",
       "      <td>24</td>\n",
       "    </tr>\n",
       "    <tr>\n",
       "      <th>4</th>\n",
       "      <td>188826</td>\n",
       "      <td>US</td>\n",
       "      <td>PA</td>\n",
       "      <td>PHILADELPHIA</td>\n",
       "      <td>CITY</td>\n",
       "      <td>SCARLET FEVER</td>\n",
       "      <td>DEATHS</td>\n",
       "      <td>5</td>\n",
       "      <td>1888-06-24</td>\n",
       "      <td>1888-06-30</td>\n",
       "      <td>DEATHS</td>\n",
       "      <td>1888</td>\n",
       "      <td>06</td>\n",
       "      <td>24</td>\n",
       "    </tr>\n",
       "  </tbody>\n",
       "</table>\n",
       "</div>"
      ],
      "text/plain": [
       "   epi_week country state           loc loc_type  \\\n",
       "0    188824      US    PA  PHILADELPHIA     CITY   \n",
       "1    188824      US    PA  PHILADELPHIA     CITY   \n",
       "2    188824      US    PA  PHILADELPHIA     CITY   \n",
       "3    188826      US    PA  PHILADELPHIA     CITY   \n",
       "4    188826      US    PA  PHILADELPHIA     CITY   \n",
       "\n",
       "                         disease   event  number   from_date     to_date  \\\n",
       "0  TYPHOID FEVER [ENTERIC FEVER]  DEATHS      14  1888-06-10  1888-06-16   \n",
       "1                  SCARLET FEVER  DEATHS       4  1888-06-10  1888-06-16   \n",
       "2                     DIPHTHERIA  DEATHS       4  1888-06-10  1888-06-16   \n",
       "3  TYPHOID FEVER [ENTERIC FEVER]  DEATHS      12  1888-06-24  1888-06-30   \n",
       "4                  SCARLET FEVER  DEATHS       5  1888-06-24  1888-06-30   \n",
       "\n",
       "      DrC  Year Month Day  \n",
       "0  DEATHS  1888    06  10  \n",
       "1  DEATHS  1888    06  10  \n",
       "2  DEATHS  1888    06  10  \n",
       "3  DEATHS  1888    06  24  \n",
       "4  DEATHS  1888    06  24  "
      ]
     },
     "execution_count": 6,
     "metadata": {},
     "output_type": "execute_result"
    }
   ],
   "source": [
    "pt.head()"
   ]
  },
  {
   "cell_type": "code",
   "execution_count": 7,
   "metadata": {
    "collapsed": true
   },
   "outputs": [],
   "source": [
    "pt['DrC'] = pd.get_dummies(pt['DrC'], drop_first=True)"
   ]
  },
  {
   "cell_type": "code",
   "execution_count": 8,
   "metadata": {},
   "outputs": [
    {
     "data": {
      "text/html": [
       "<div>\n",
       "<style>\n",
       "    .dataframe thead tr:only-child th {\n",
       "        text-align: right;\n",
       "    }\n",
       "\n",
       "    .dataframe thead th {\n",
       "        text-align: left;\n",
       "    }\n",
       "\n",
       "    .dataframe tbody tr th {\n",
       "        vertical-align: top;\n",
       "    }\n",
       "</style>\n",
       "<table border=\"1\" class=\"dataframe\">\n",
       "  <thead>\n",
       "    <tr style=\"text-align: right;\">\n",
       "      <th></th>\n",
       "      <th>epi_week</th>\n",
       "      <th>country</th>\n",
       "      <th>state</th>\n",
       "      <th>loc</th>\n",
       "      <th>loc_type</th>\n",
       "      <th>disease</th>\n",
       "      <th>event</th>\n",
       "      <th>number</th>\n",
       "      <th>from_date</th>\n",
       "      <th>to_date</th>\n",
       "      <th>DrC</th>\n",
       "      <th>Year</th>\n",
       "      <th>Month</th>\n",
       "      <th>Day</th>\n",
       "    </tr>\n",
       "  </thead>\n",
       "  <tbody>\n",
       "    <tr>\n",
       "      <th>0</th>\n",
       "      <td>188824</td>\n",
       "      <td>US</td>\n",
       "      <td>PA</td>\n",
       "      <td>PHILADELPHIA</td>\n",
       "      <td>CITY</td>\n",
       "      <td>TYPHOID FEVER [ENTERIC FEVER]</td>\n",
       "      <td>DEATHS</td>\n",
       "      <td>14</td>\n",
       "      <td>1888-06-10</td>\n",
       "      <td>1888-06-16</td>\n",
       "      <td>1</td>\n",
       "      <td>1888</td>\n",
       "      <td>06</td>\n",
       "      <td>10</td>\n",
       "    </tr>\n",
       "    <tr>\n",
       "      <th>1</th>\n",
       "      <td>188824</td>\n",
       "      <td>US</td>\n",
       "      <td>PA</td>\n",
       "      <td>PHILADELPHIA</td>\n",
       "      <td>CITY</td>\n",
       "      <td>SCARLET FEVER</td>\n",
       "      <td>DEATHS</td>\n",
       "      <td>4</td>\n",
       "      <td>1888-06-10</td>\n",
       "      <td>1888-06-16</td>\n",
       "      <td>1</td>\n",
       "      <td>1888</td>\n",
       "      <td>06</td>\n",
       "      <td>10</td>\n",
       "    </tr>\n",
       "    <tr>\n",
       "      <th>2</th>\n",
       "      <td>188824</td>\n",
       "      <td>US</td>\n",
       "      <td>PA</td>\n",
       "      <td>PHILADELPHIA</td>\n",
       "      <td>CITY</td>\n",
       "      <td>DIPHTHERIA</td>\n",
       "      <td>DEATHS</td>\n",
       "      <td>4</td>\n",
       "      <td>1888-06-10</td>\n",
       "      <td>1888-06-16</td>\n",
       "      <td>1</td>\n",
       "      <td>1888</td>\n",
       "      <td>06</td>\n",
       "      <td>10</td>\n",
       "    </tr>\n",
       "    <tr>\n",
       "      <th>3</th>\n",
       "      <td>188826</td>\n",
       "      <td>US</td>\n",
       "      <td>PA</td>\n",
       "      <td>PHILADELPHIA</td>\n",
       "      <td>CITY</td>\n",
       "      <td>TYPHOID FEVER [ENTERIC FEVER]</td>\n",
       "      <td>DEATHS</td>\n",
       "      <td>12</td>\n",
       "      <td>1888-06-24</td>\n",
       "      <td>1888-06-30</td>\n",
       "      <td>1</td>\n",
       "      <td>1888</td>\n",
       "      <td>06</td>\n",
       "      <td>24</td>\n",
       "    </tr>\n",
       "    <tr>\n",
       "      <th>4</th>\n",
       "      <td>188826</td>\n",
       "      <td>US</td>\n",
       "      <td>PA</td>\n",
       "      <td>PHILADELPHIA</td>\n",
       "      <td>CITY</td>\n",
       "      <td>SCARLET FEVER</td>\n",
       "      <td>DEATHS</td>\n",
       "      <td>5</td>\n",
       "      <td>1888-06-24</td>\n",
       "      <td>1888-06-30</td>\n",
       "      <td>1</td>\n",
       "      <td>1888</td>\n",
       "      <td>06</td>\n",
       "      <td>24</td>\n",
       "    </tr>\n",
       "    <tr>\n",
       "      <th>5</th>\n",
       "      <td>188826</td>\n",
       "      <td>US</td>\n",
       "      <td>PA</td>\n",
       "      <td>PHILADELPHIA</td>\n",
       "      <td>CITY</td>\n",
       "      <td>DIPHTHERIA</td>\n",
       "      <td>DEATHS</td>\n",
       "      <td>7</td>\n",
       "      <td>1888-06-24</td>\n",
       "      <td>1888-06-30</td>\n",
       "      <td>1</td>\n",
       "      <td>1888</td>\n",
       "      <td>06</td>\n",
       "      <td>24</td>\n",
       "    </tr>\n",
       "    <tr>\n",
       "      <th>6</th>\n",
       "      <td>188826</td>\n",
       "      <td>US</td>\n",
       "      <td>MD</td>\n",
       "      <td>BALTIMORE</td>\n",
       "      <td>CITY</td>\n",
       "      <td>TYPHOID FEVER [ENTERIC FEVER]</td>\n",
       "      <td>DEATHS</td>\n",
       "      <td>4</td>\n",
       "      <td>1888-06-24</td>\n",
       "      <td>1888-06-30</td>\n",
       "      <td>1</td>\n",
       "      <td>1888</td>\n",
       "      <td>06</td>\n",
       "      <td>24</td>\n",
       "    </tr>\n",
       "    <tr>\n",
       "      <th>7</th>\n",
       "      <td>188826</td>\n",
       "      <td>US</td>\n",
       "      <td>MD</td>\n",
       "      <td>BALTIMORE</td>\n",
       "      <td>CITY</td>\n",
       "      <td>DIPHTHERIA</td>\n",
       "      <td>DEATHS</td>\n",
       "      <td>1</td>\n",
       "      <td>1888-06-24</td>\n",
       "      <td>1888-06-30</td>\n",
       "      <td>1</td>\n",
       "      <td>1888</td>\n",
       "      <td>06</td>\n",
       "      <td>24</td>\n",
       "    </tr>\n",
       "    <tr>\n",
       "      <th>8</th>\n",
       "      <td>188825</td>\n",
       "      <td>US</td>\n",
       "      <td>LA</td>\n",
       "      <td>NEW ORLEANS</td>\n",
       "      <td>CITY</td>\n",
       "      <td>TYPHOID FEVER [ENTERIC FEVER]</td>\n",
       "      <td>DEATHS</td>\n",
       "      <td>1</td>\n",
       "      <td>1888-06-17</td>\n",
       "      <td>1888-06-23</td>\n",
       "      <td>1</td>\n",
       "      <td>1888</td>\n",
       "      <td>06</td>\n",
       "      <td>17</td>\n",
       "    </tr>\n",
       "    <tr>\n",
       "      <th>9</th>\n",
       "      <td>188825</td>\n",
       "      <td>US</td>\n",
       "      <td>LA</td>\n",
       "      <td>NEW ORLEANS</td>\n",
       "      <td>CITY</td>\n",
       "      <td>DIPHTHERIA</td>\n",
       "      <td>DEATHS</td>\n",
       "      <td>4</td>\n",
       "      <td>1888-06-17</td>\n",
       "      <td>1888-06-23</td>\n",
       "      <td>1</td>\n",
       "      <td>1888</td>\n",
       "      <td>06</td>\n",
       "      <td>17</td>\n",
       "    </tr>\n",
       "  </tbody>\n",
       "</table>\n",
       "</div>"
      ],
      "text/plain": [
       "   epi_week country state           loc loc_type  \\\n",
       "0    188824      US    PA  PHILADELPHIA     CITY   \n",
       "1    188824      US    PA  PHILADELPHIA     CITY   \n",
       "2    188824      US    PA  PHILADELPHIA     CITY   \n",
       "3    188826      US    PA  PHILADELPHIA     CITY   \n",
       "4    188826      US    PA  PHILADELPHIA     CITY   \n",
       "5    188826      US    PA  PHILADELPHIA     CITY   \n",
       "6    188826      US    MD     BALTIMORE     CITY   \n",
       "7    188826      US    MD     BALTIMORE     CITY   \n",
       "8    188825      US    LA   NEW ORLEANS     CITY   \n",
       "9    188825      US    LA   NEW ORLEANS     CITY   \n",
       "\n",
       "                         disease   event  number   from_date     to_date  DrC  \\\n",
       "0  TYPHOID FEVER [ENTERIC FEVER]  DEATHS      14  1888-06-10  1888-06-16    1   \n",
       "1                  SCARLET FEVER  DEATHS       4  1888-06-10  1888-06-16    1   \n",
       "2                     DIPHTHERIA  DEATHS       4  1888-06-10  1888-06-16    1   \n",
       "3  TYPHOID FEVER [ENTERIC FEVER]  DEATHS      12  1888-06-24  1888-06-30    1   \n",
       "4                  SCARLET FEVER  DEATHS       5  1888-06-24  1888-06-30    1   \n",
       "5                     DIPHTHERIA  DEATHS       7  1888-06-24  1888-06-30    1   \n",
       "6  TYPHOID FEVER [ENTERIC FEVER]  DEATHS       4  1888-06-24  1888-06-30    1   \n",
       "7                     DIPHTHERIA  DEATHS       1  1888-06-24  1888-06-30    1   \n",
       "8  TYPHOID FEVER [ENTERIC FEVER]  DEATHS       1  1888-06-17  1888-06-23    1   \n",
       "9                     DIPHTHERIA  DEATHS       4  1888-06-17  1888-06-23    1   \n",
       "\n",
       "   Year Month Day  \n",
       "0  1888    06  10  \n",
       "1  1888    06  10  \n",
       "2  1888    06  10  \n",
       "3  1888    06  24  \n",
       "4  1888    06  24  \n",
       "5  1888    06  24  \n",
       "6  1888    06  24  \n",
       "7  1888    06  24  \n",
       "8  1888    06  17  \n",
       "9  1888    06  17  "
      ]
     },
     "execution_count": 8,
     "metadata": {},
     "output_type": "execute_result"
    }
   ],
   "source": [
    "pt.head(10)"
   ]
  },
  {
   "cell_type": "code",
   "execution_count": 9,
   "metadata": {},
   "outputs": [
    {
     "data": {
      "text/plain": [
       "array([  14,    4,   12,    5,    7,    1,    9,    2,    6,    3,   13,\n",
       "         17,   19,   35,   20,   23,    8,   10,   11,   22,   27,   15,\n",
       "         37,   40,   24,   16,   32,   25,   41,   18,   29,   21,   39,\n",
       "         26,   33,   36,   30,   34,   52,   48,   51,   47,   43,   49,\n",
       "         54,   50,   55,   44,   38,   28,   58,   46,   31,   59,   42,\n",
       "         57,   71,   53,   61,   56,    0,   63,  104,  119,  102,  124,\n",
       "        137,   64,  118,   78,  127,   60,  114,   45,   99,  107,  112,\n",
       "        108,  103,   88,   66,   98,   85,   70,   72,   89,   82,   80,\n",
       "         74,  116,   73,   77,   76,   87,   95,   62,  101,   97,   86,\n",
       "        110,   90,   69,  120,   79,  129,  132,  105,  128,  121,   93,\n",
       "        111,   92,   83,   67,   75,   84,  106,   94,   96,  149,  135,\n",
       "        133,  123,   68,   65,   81,  100,   91,  122,  109,  115,  117,\n",
       "        134,  140,  160,  158,  166,  148,  159,  151,  153,  168,  144,\n",
       "        155,  190, 4127,  136,  138,  157,  145,  156,  172,  146,  147,\n",
       "        130,  154,  152,  142,  174,  165,  173,  177,  176,  189,  187,\n",
       "        194,  202,  169,  178,  141,  192,  161,  139,  143,  113,  180,\n",
       "        204,  175,  171,  163,  188,  207,  179,  182,  164,  197,  181,\n",
       "        167,  131,  191,  185,  170,  195,  150,  183,  125,  162,  186,\n",
       "        198,  209,  199,  200,  210,  201])"
      ]
     },
     "execution_count": 9,
     "metadata": {},
     "output_type": "execute_result"
    }
   ],
   "source": [
    "pt.number.unique()"
   ]
  },
  {
   "cell_type": "code",
   "execution_count": 10,
   "metadata": {},
   "outputs": [
    {
     "data": {
      "text/plain": [
       "12"
      ]
     },
     "execution_count": 10,
     "metadata": {},
     "output_type": "execute_result"
    }
   ],
   "source": [
    "len(pt.Month.unique())"
   ]
  },
  {
   "cell_type": "code",
   "execution_count": 11,
   "metadata": {},
   "outputs": [
    {
     "data": {
      "text/plain": [
       "43"
      ]
     },
     "execution_count": 11,
     "metadata": {},
     "output_type": "execute_result"
    }
   ],
   "source": [
    "len(pt.state.unique())"
   ]
  },
  {
   "cell_type": "code",
   "execution_count": 12,
   "metadata": {},
   "outputs": [
    {
     "data": {
      "text/plain": [
       "14"
      ]
     },
     "execution_count": 12,
     "metadata": {},
     "output_type": "execute_result"
    }
   ],
   "source": [
    "len(pt.disease.unique())"
   ]
  },
  {
   "cell_type": "code",
   "execution_count": 13,
   "metadata": {},
   "outputs": [
    {
     "data": {
      "text/plain": [
       "2"
      ]
     },
     "execution_count": 13,
     "metadata": {},
     "output_type": "execute_result"
    }
   ],
   "source": [
    "len(pt.DrC.unique())"
   ]
  },
  {
   "cell_type": "code",
   "execution_count": 14,
   "metadata": {
    "collapsed": true
   },
   "outputs": [],
   "source": [
    "x = pt.iloc[:,[2,4,5,7,10,12,13]]"
   ]
  },
  {
   "cell_type": "code",
   "execution_count": 15,
   "metadata": {},
   "outputs": [
    {
     "data": {
      "text/html": [
       "<div>\n",
       "<style>\n",
       "    .dataframe thead tr:only-child th {\n",
       "        text-align: right;\n",
       "    }\n",
       "\n",
       "    .dataframe thead th {\n",
       "        text-align: left;\n",
       "    }\n",
       "\n",
       "    .dataframe tbody tr th {\n",
       "        vertical-align: top;\n",
       "    }\n",
       "</style>\n",
       "<table border=\"1\" class=\"dataframe\">\n",
       "  <thead>\n",
       "    <tr style=\"text-align: right;\">\n",
       "      <th></th>\n",
       "      <th>state</th>\n",
       "      <th>loc_type</th>\n",
       "      <th>disease</th>\n",
       "      <th>number</th>\n",
       "      <th>DrC</th>\n",
       "      <th>Month</th>\n",
       "      <th>Day</th>\n",
       "    </tr>\n",
       "  </thead>\n",
       "  <tbody>\n",
       "    <tr>\n",
       "      <th>0</th>\n",
       "      <td>PA</td>\n",
       "      <td>CITY</td>\n",
       "      <td>TYPHOID FEVER [ENTERIC FEVER]</td>\n",
       "      <td>14</td>\n",
       "      <td>1</td>\n",
       "      <td>06</td>\n",
       "      <td>10</td>\n",
       "    </tr>\n",
       "    <tr>\n",
       "      <th>1</th>\n",
       "      <td>PA</td>\n",
       "      <td>CITY</td>\n",
       "      <td>SCARLET FEVER</td>\n",
       "      <td>4</td>\n",
       "      <td>1</td>\n",
       "      <td>06</td>\n",
       "      <td>10</td>\n",
       "    </tr>\n",
       "    <tr>\n",
       "      <th>2</th>\n",
       "      <td>PA</td>\n",
       "      <td>CITY</td>\n",
       "      <td>DIPHTHERIA</td>\n",
       "      <td>4</td>\n",
       "      <td>1</td>\n",
       "      <td>06</td>\n",
       "      <td>10</td>\n",
       "    </tr>\n",
       "    <tr>\n",
       "      <th>3</th>\n",
       "      <td>PA</td>\n",
       "      <td>CITY</td>\n",
       "      <td>TYPHOID FEVER [ENTERIC FEVER]</td>\n",
       "      <td>12</td>\n",
       "      <td>1</td>\n",
       "      <td>06</td>\n",
       "      <td>24</td>\n",
       "    </tr>\n",
       "    <tr>\n",
       "      <th>4</th>\n",
       "      <td>PA</td>\n",
       "      <td>CITY</td>\n",
       "      <td>SCARLET FEVER</td>\n",
       "      <td>5</td>\n",
       "      <td>1</td>\n",
       "      <td>06</td>\n",
       "      <td>24</td>\n",
       "    </tr>\n",
       "  </tbody>\n",
       "</table>\n",
       "</div>"
      ],
      "text/plain": [
       "  state loc_type                        disease  number  DrC Month Day\n",
       "0    PA     CITY  TYPHOID FEVER [ENTERIC FEVER]      14    1    06  10\n",
       "1    PA     CITY                  SCARLET FEVER       4    1    06  10\n",
       "2    PA     CITY                     DIPHTHERIA       4    1    06  10\n",
       "3    PA     CITY  TYPHOID FEVER [ENTERIC FEVER]      12    1    06  24\n",
       "4    PA     CITY                  SCARLET FEVER       5    1    06  24"
      ]
     },
     "execution_count": 15,
     "metadata": {},
     "output_type": "execute_result"
    }
   ],
   "source": [
    "x.head()"
   ]
  },
  {
   "cell_type": "code",
   "execution_count": 16,
   "metadata": {
    "collapsed": true
   },
   "outputs": [],
   "source": [
    "y = pt.iloc[:,3]"
   ]
  },
  {
   "cell_type": "code",
   "execution_count": 17,
   "metadata": {},
   "outputs": [
    {
     "data": {
      "text/plain": [
       "0    PHILADELPHIA\n",
       "1    PHILADELPHIA\n",
       "2    PHILADELPHIA\n",
       "3    PHILADELPHIA\n",
       "4    PHILADELPHIA\n",
       "Name: loc, dtype: object"
      ]
     },
     "execution_count": 17,
     "metadata": {},
     "output_type": "execute_result"
    }
   ],
   "source": [
    "y.head()"
   ]
  },
  {
   "cell_type": "code",
   "execution_count": 18,
   "metadata": {
    "collapsed": true
   },
   "outputs": [],
   "source": [
    "a = pd.get_dummies(x['state'], drop_first=True )\n",
    "b = pd.get_dummies(x['loc_type'], drop_first=True )\n",
    "c = pd.get_dummies(x['disease'], drop_first=True )"
   ]
  },
  {
   "cell_type": "code",
   "execution_count": 19,
   "metadata": {
    "collapsed": true
   },
   "outputs": [],
   "source": [
    "cmb = pd.concat([a,b], axis = 1)\n",
    "cmb = pd.concat([cmb,c], axis = 1)\n",
    "cmb = pd.concat([cmb,pt['DrC']], axis = 1)\n",
    "cmb = pd.concat([cmb,pt['number']], axis = 1)\n",
    "cmb = pd.concat([cmb,pt['Month']], axis = 1)\n",
    "cmb = pd.concat([cmb,pt['Day']], axis = 1)"
   ]
  },
  {
   "cell_type": "code",
   "execution_count": 20,
   "metadata": {},
   "outputs": [
    {
     "data": {
      "text/plain": [
       "(100000, 60)"
      ]
     },
     "execution_count": 20,
     "metadata": {},
     "output_type": "execute_result"
    }
   ],
   "source": [
    "cmb.shape"
   ]
  },
  {
   "cell_type": "code",
   "execution_count": 21,
   "metadata": {
    "collapsed": true
   },
   "outputs": [],
   "source": [
    "import sklearn"
   ]
  },
  {
   "cell_type": "code",
   "execution_count": 22,
   "metadata": {
    "collapsed": true
   },
   "outputs": [],
   "source": [
    "from sklearn import preprocessing"
   ]
  },
  {
   "cell_type": "code",
   "execution_count": 23,
   "metadata": {
    "collapsed": true
   },
   "outputs": [],
   "source": [
    "from sklearn.linear_model import LogisticRegression"
   ]
  },
  {
   "cell_type": "markdown",
   "metadata": {},
   "source": [
    "### Logistic Regression"
   ]
  },
  {
   "cell_type": "code",
   "execution_count": 24,
   "metadata": {},
   "outputs": [
    {
     "name": "stderr",
     "output_type": "stream",
     "text": [
      "/home/student/anaconda3/lib/python3.6/site-packages/sklearn/cross_validation.py:41: DeprecationWarning: This module was deprecated in version 0.18 in favor of the model_selection module into which all the refactored classes and functions are moved. Also note that the interface of the new CV iterators are different from that of this module. This module will be removed in 0.20.\n",
      "  \"This module will be removed in 0.20.\", DeprecationWarning)\n"
     ]
    }
   ],
   "source": [
    "lr = LogisticRegression()\n",
    "from sklearn.cross_validation import train_test_split\n",
    "x_train, x_test, y_train, y_test = train_test_split(cmb,y, test_size = 0.3)\n"
   ]
  },
  {
   "cell_type": "code",
   "execution_count": 25,
   "metadata": {},
   "outputs": [
    {
     "data": {
      "text/plain": [
       "LogisticRegression(C=1.0, class_weight=None, dual=False, fit_intercept=True,\n",
       "          intercept_scaling=1, max_iter=100, multi_class='ovr', n_jobs=1,\n",
       "          penalty='l2', random_state=None, solver='liblinear', tol=0.0001,\n",
       "          verbose=0, warm_start=False)"
      ]
     },
     "execution_count": 25,
     "metadata": {},
     "output_type": "execute_result"
    }
   ],
   "source": [
    "lr.fit(x_train,y_train)"
   ]
  },
  {
   "cell_type": "code",
   "execution_count": 27,
   "metadata": {
    "collapsed": true
   },
   "outputs": [],
   "source": [
    "y_pred = lr.predict(x_test)"
   ]
  },
  {
   "cell_type": "code",
   "execution_count": 28,
   "metadata": {},
   "outputs": [
    {
     "data": {
      "text/plain": [
       "array([[ 0,  0,  0, ...,  0,  0,  0],\n",
       "       [ 0,  0,  0, ...,  0,  0,  0],\n",
       "       [ 0,  0,  0, ...,  0,  0,  0],\n",
       "       ..., \n",
       "       [ 0,  0,  0, ..., 10,  0,  0],\n",
       "       [ 0,  0,  0, ...,  0,  0,  0],\n",
       "       [ 0,  0,  0, ...,  0,  0,  0]])"
      ]
     },
     "execution_count": 28,
     "metadata": {},
     "output_type": "execute_result"
    }
   ],
   "source": [
    "from sklearn.metrics import confusion_matrix\n",
    "confusion_matrix(y_test, y_pred)"
   ]
  },
  {
   "cell_type": "code",
   "execution_count": 29,
   "metadata": {
    "collapsed": true
   },
   "outputs": [],
   "source": [
    "from sklearn.metrics import accuracy_score"
   ]
  },
  {
   "cell_type": "code",
   "execution_count": 30,
   "metadata": {},
   "outputs": [
    {
     "data": {
      "text/plain": [
       "0.54410000000000003"
      ]
     },
     "execution_count": 30,
     "metadata": {},
     "output_type": "execute_result"
    }
   ],
   "source": [
    "accuracy_score(y_test, y_pred)"
   ]
  },
  {
   "cell_type": "code",
   "execution_count": 31,
   "metadata": {},
   "outputs": [
    {
     "data": {
      "text/plain": [
       "array(['JERSEY CITY', 'CLEVELAND', 'PITTSBURGH', ..., 'JERSEY CITY',\n",
       "       'BOSTON', 'BOSTON'], dtype=object)"
      ]
     },
     "execution_count": 31,
     "metadata": {},
     "output_type": "execute_result"
    }
   ],
   "source": [
    "y_pred"
   ]
  },
  {
   "cell_type": "markdown",
   "metadata": {},
   "source": [
    "### KNN"
   ]
  },
  {
   "cell_type": "code",
   "execution_count": 32,
   "metadata": {
    "collapsed": true
   },
   "outputs": [],
   "source": [
    "from sklearn.neighbors import KNeighborsClassifier"
   ]
  },
  {
   "cell_type": "code",
   "execution_count": 33,
   "metadata": {
    "collapsed": true
   },
   "outputs": [],
   "source": [
    "knn = KNeighborsClassifier()"
   ]
  },
  {
   "cell_type": "code",
   "execution_count": 35,
   "metadata": {},
   "outputs": [
    {
     "data": {
      "text/plain": [
       "KNeighborsClassifier(algorithm='auto', leaf_size=30, metric='minkowski',\n",
       "           metric_params=None, n_jobs=1, n_neighbors=5, p=2,\n",
       "           weights='uniform')"
      ]
     },
     "execution_count": 35,
     "metadata": {},
     "output_type": "execute_result"
    }
   ],
   "source": [
    "knn.fit(x_train,y_train)"
   ]
  },
  {
   "cell_type": "code",
   "execution_count": 36,
   "metadata": {
    "collapsed": true
   },
   "outputs": [],
   "source": [
    "y_pred1 = knn.predict(x_test)"
   ]
  },
  {
   "cell_type": "code",
   "execution_count": 37,
   "metadata": {},
   "outputs": [
    {
     "data": {
      "text/plain": [
       "0.32119999999999999"
      ]
     },
     "execution_count": 37,
     "metadata": {},
     "output_type": "execute_result"
    }
   ],
   "source": [
    "accuracy_score(y_test, y_pred1)"
   ]
  },
  {
   "cell_type": "markdown",
   "metadata": {},
   "source": [
    "### Naive Bayes"
   ]
  },
  {
   "cell_type": "code",
   "execution_count": 38,
   "metadata": {
    "collapsed": true
   },
   "outputs": [],
   "source": [
    "from sklearn.naive_bayes import GaussianNB"
   ]
  },
  {
   "cell_type": "code",
   "execution_count": 39,
   "metadata": {
    "collapsed": true
   },
   "outputs": [],
   "source": [
    "nb = GaussianNB()"
   ]
  },
  {
   "cell_type": "code",
   "execution_count": 40,
   "metadata": {},
   "outputs": [
    {
     "data": {
      "text/plain": [
       "GaussianNB(priors=None)"
      ]
     },
     "execution_count": 40,
     "metadata": {},
     "output_type": "execute_result"
    }
   ],
   "source": [
    "nb.fit(x_train, y_train)"
   ]
  },
  {
   "cell_type": "code",
   "execution_count": 42,
   "metadata": {},
   "outputs": [],
   "source": [
    "y_pred2 = nb.predict(x_test)"
   ]
  },
  {
   "cell_type": "code",
   "execution_count": 43,
   "metadata": {},
   "outputs": [
    {
     "data": {
      "text/plain": [
       "0.23563333333333333"
      ]
     },
     "execution_count": 43,
     "metadata": {},
     "output_type": "execute_result"
    }
   ],
   "source": [
    "accuracy_score(y_test, y_pred2)"
   ]
  },
  {
   "cell_type": "markdown",
   "metadata": {},
   "source": [
    "### Deceision Tree "
   ]
  },
  {
   "cell_type": "code",
   "execution_count": 44,
   "metadata": {
    "collapsed": true
   },
   "outputs": [],
   "source": [
    "from sklearn.tree import DecisionTreeClassifier"
   ]
  },
  {
   "cell_type": "code",
   "execution_count": 45,
   "metadata": {
    "collapsed": true
   },
   "outputs": [],
   "source": [
    "dt = DecisionTreeClassifier()"
   ]
  },
  {
   "cell_type": "code",
   "execution_count": 46,
   "metadata": {},
   "outputs": [
    {
     "data": {
      "text/plain": [
       "DecisionTreeClassifier(class_weight=None, criterion='gini', max_depth=None,\n",
       "            max_features=None, max_leaf_nodes=None,\n",
       "            min_impurity_decrease=0.0, min_impurity_split=None,\n",
       "            min_samples_leaf=1, min_samples_split=2,\n",
       "            min_weight_fraction_leaf=0.0, presort=False, random_state=None,\n",
       "            splitter='best')"
      ]
     },
     "execution_count": 46,
     "metadata": {},
     "output_type": "execute_result"
    }
   ],
   "source": [
    "dt.fit(x_train, y_train)"
   ]
  },
  {
   "cell_type": "code",
   "execution_count": 47,
   "metadata": {
    "collapsed": true
   },
   "outputs": [],
   "source": [
    "y_pred3 = dt.predict(x_test)"
   ]
  },
  {
   "cell_type": "code",
   "execution_count": 48,
   "metadata": {},
   "outputs": [
    {
     "data": {
      "text/plain": [
       "0.48236666666666667"
      ]
     },
     "execution_count": 48,
     "metadata": {},
     "output_type": "execute_result"
    }
   ],
   "source": [
    "accuracy_score(y_test, y_pred3)"
   ]
  },
  {
   "cell_type": "markdown",
   "metadata": {},
   "source": [
    "### Randon Forest"
   ]
  },
  {
   "cell_type": "code",
   "execution_count": 49,
   "metadata": {
    "collapsed": true
   },
   "outputs": [],
   "source": [
    "from sklearn.ensemble import RandomForestClassifier"
   ]
  },
  {
   "cell_type": "code",
   "execution_count": 50,
   "metadata": {
    "collapsed": true
   },
   "outputs": [],
   "source": [
    "rf = DecisionTreeClassifier()"
   ]
  },
  {
   "cell_type": "code",
   "execution_count": 51,
   "metadata": {},
   "outputs": [
    {
     "data": {
      "text/plain": [
       "DecisionTreeClassifier(class_weight=None, criterion='gini', max_depth=None,\n",
       "            max_features=None, max_leaf_nodes=None,\n",
       "            min_impurity_decrease=0.0, min_impurity_split=None,\n",
       "            min_samples_leaf=1, min_samples_split=2,\n",
       "            min_weight_fraction_leaf=0.0, presort=False, random_state=None,\n",
       "            splitter='best')"
      ]
     },
     "execution_count": 51,
     "metadata": {},
     "output_type": "execute_result"
    }
   ],
   "source": [
    "rf.fit(x_train, y_train)"
   ]
  },
  {
   "cell_type": "code",
   "execution_count": 52,
   "metadata": {
    "collapsed": true
   },
   "outputs": [],
   "source": [
    "y_pred4 = rf.predict(x_test)"
   ]
  },
  {
   "cell_type": "code",
   "execution_count": 53,
   "metadata": {},
   "outputs": [
    {
     "data": {
      "text/plain": [
       "0.48296666666666666"
      ]
     },
     "execution_count": 53,
     "metadata": {},
     "output_type": "execute_result"
    }
   ],
   "source": [
    "accuracy_score(y_test, y_pred4)"
   ]
  },
  {
   "cell_type": "markdown",
   "metadata": {},
   "source": [
    "### SVM"
   ]
  },
  {
   "cell_type": "code",
   "execution_count": 54,
   "metadata": {
    "collapsed": true
   },
   "outputs": [],
   "source": [
    "from sklearn.svm import SVC"
   ]
  },
  {
   "cell_type": "code",
   "execution_count": 56,
   "metadata": {},
   "outputs": [],
   "source": [
    "sv = SVC(kernel = 'rbf', random_state = 0)"
   ]
  },
  {
   "cell_type": "code",
   "execution_count": 57,
   "metadata": {},
   "outputs": [
    {
     "data": {
      "text/plain": [
       "SVC(C=1.0, cache_size=200, class_weight=None, coef0=0.0,\n",
       "  decision_function_shape='ovr', degree=3, gamma='auto', kernel='rbf',\n",
       "  max_iter=-1, probability=False, random_state=0, shrinking=True,\n",
       "  tol=0.001, verbose=False)"
      ]
     },
     "execution_count": 57,
     "metadata": {},
     "output_type": "execute_result"
    }
   ],
   "source": [
    "sv.fit(x_train, y_train)"
   ]
  },
  {
   "cell_type": "code",
   "execution_count": 58,
   "metadata": {
    "collapsed": true
   },
   "outputs": [],
   "source": [
    "y_pred5 = sv.predict(x_test)"
   ]
  },
  {
   "cell_type": "code",
   "execution_count": 59,
   "metadata": {},
   "outputs": [
    {
     "data": {
      "text/plain": [
       "0.54659999999999997"
      ]
     },
     "execution_count": 59,
     "metadata": {},
     "output_type": "execute_result"
    }
   ],
   "source": [
    "accuracy_score(y_test, y_pred5)"
   ]
  },
  {
   "cell_type": "code",
   "execution_count": 60,
   "metadata": {
    "collapsed": true
   },
   "outputs": [],
   "source": [
    "sv1 = SVC(kernel = 'linear', random_state = 0)"
   ]
  },
  {
   "cell_type": "code",
   "execution_count": 61,
   "metadata": {},
   "outputs": [
    {
     "data": {
      "text/plain": [
       "SVC(C=1.0, cache_size=200, class_weight=None, coef0=0.0,\n",
       "  decision_function_shape='ovr', degree=3, gamma='auto', kernel='linear',\n",
       "  max_iter=-1, probability=False, random_state=0, shrinking=True,\n",
       "  tol=0.001, verbose=False)"
      ]
     },
     "execution_count": 61,
     "metadata": {},
     "output_type": "execute_result"
    }
   ],
   "source": [
    "sv1.fit(x_train, y_train)"
   ]
  },
  {
   "cell_type": "code",
   "execution_count": 62,
   "metadata": {
    "collapsed": true
   },
   "outputs": [],
   "source": [
    "y_pred6 = sv1.predict(x_test)"
   ]
  },
  {
   "cell_type": "code",
   "execution_count": 63,
   "metadata": {},
   "outputs": [
    {
     "data": {
      "text/plain": [
       "0.57199999999999995"
      ]
     },
     "execution_count": 63,
     "metadata": {},
     "output_type": "execute_result"
    }
   ],
   "source": [
    "accuracy_score(y_test, y_pred6)"
   ]
  },
  {
   "cell_type": "markdown",
   "metadata": {},
   "source": [
    "### Accuracies (for 1 lakh data points)"
   ]
  },
  {
   "cell_type": "markdown",
   "metadata": {},
   "source": [
    "Logistic Regression    = 0.54\n",
    "\n",
    "KNN                    = 0.32\n",
    "\n",
    "Naive Bayes            = 0.23\n",
    "\n",
    "Random Forest          = 0.4829\n",
    "\n",
    "Decision Tree          = 0.4823\n",
    "\n",
    "SVM                    =  0.54 (rbf kernek) & 0.57 (linear kernel)"
   ]
  }
 ],
 "metadata": {
  "kernelspec": {
   "display_name": "Python 3",
   "language": "python",
   "name": "python3"
  },
  "language_info": {
   "codemirror_mode": {
    "name": "ipython",
    "version": 3
   },
   "file_extension": ".py",
   "mimetype": "text/x-python",
   "name": "python",
   "nbconvert_exporter": "python",
   "pygments_lexer": "ipython3",
   "version": "3.7.3"
  }
 },
 "nbformat": 4,
 "nbformat_minor": 2
}
